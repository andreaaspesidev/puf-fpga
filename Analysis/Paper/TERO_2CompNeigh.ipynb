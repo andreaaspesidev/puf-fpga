{
 "cells": [
  {
   "cell_type": "markdown",
   "metadata": {},
   "source": [
    "### Imports"
   ]
  },
  {
   "cell_type": "code",
   "execution_count": 1,
   "metadata": {},
   "outputs": [],
   "source": [
    "import numpy as np\n",
    "import pandas as pd"
   ]
  },
  {
   "cell_type": "markdown",
   "metadata": {},
   "source": [
    "### Read data from logs\n",
    "Each of the provided logs contains frequencies for each of the 1280 tero-instances, for 100 pufs (100 different board)"
   ]
  },
  {
   "cell_type": "code",
   "execution_count": 2,
   "metadata": {},
   "outputs": [],
   "source": [
    "def extract_frequencies(csv_file, counter_bits):\n",
    "    data = pd.read_csv(csv_file, sep=',', skiprows=1, names=[\"BoardNumber\",\"DataSent\", \"#Sent\", \"DataReceived\", \"#Received\"])\n",
    "    responsesRaw = np.array(data['DataReceived'])\n",
    "    responses = []\n",
    "    for responseRaw in responsesRaw:\n",
    "        response = []\n",
    "        for i in range(0, len(responseRaw), int(counter_bits/4)):\n",
    "            response.append(int(responseRaw[i:i+int(counter_bits/4)], 16))\n",
    "        responses.append(response)\n",
    "    responses = np.array(responses)\n",
    "    return np.transpose(responses) # for each row, an instance of tero. for each column, the value in that fpga"
   ]
  },
  {
   "cell_type": "code",
   "execution_count": 25,
   "metadata": {},
   "outputs": [],
   "source": [
    "freqs1 = extract_frequencies(\"TERO/log_20161008U235656_Small_ChosenRepetition_ChosenTime_22.0C.csv\", 32)\n",
    "freqs2 = extract_frequencies(\"TERO/log_20161009U002207_Small_ChosenRepetition_ChosenTime_22.0C.csv\", 32)\n",
    "freqs3 = extract_frequencies(\"TERO/log_20161009U023930_Small_ChosenRepetition_ChosenTime_-0.0C.csv\", 32)\n",
    "freqs4 = extract_frequencies(\"TERO/log_20161009U110717_Small_ChosenRepetition_ChosenTime_44.1C.csv\", 32)"
   ]
  },
  {
   "cell_type": "code",
   "execution_count": 26,
   "metadata": {},
   "outputs": [
    {
     "name": "stdout",
     "output_type": "stream",
     "text": [
      "(1280, 100)\n",
      "[[  71870  239361  165805 ...  126003   96193   72745]\n",
      " [  61075 1131202  936723 ...   63300  122902  123455]\n",
      " [  68815   93162  373604 ...   43073   73202  447935]\n",
      " ...\n",
      " [  85216  104602   91431 ...  142617  219258  164340]\n",
      " [ 163790   66403  118687 ...  133235  124278  148629]\n",
      " [ 143384  118096   52582 ...  194886   83166  447925]]\n"
     ]
    }
   ],
   "source": [
    "print(freqs1.shape)\n",
    "print(freqs1)"
   ]
  },
  {
   "cell_type": "markdown",
   "metadata": {},
   "source": [
    "### Group frequencies in batches"
   ]
  },
  {
   "cell_type": "markdown",
   "metadata": {},
   "source": [
    "0 1 2 3 4 5 6 7 8 9 10 11 12 13 14 15 16\n",
    "\n",
    "[0] 0 4 8 12 16  \n",
    "[1] 1 5 9 13 17  \n",
    "\n",
    "[0] 0 8 16  x 160  \n",
    "[1] 1 9 17  \n",
    "[2] 2 10 18  \n",
    "[3] 3 ...  \n",
    "[4] 4 12 20  \n",
    "...  \n",
    "[7]  "
   ]
  },
  {
   "cell_type": "code",
   "execution_count": 29,
   "metadata": {},
   "outputs": [],
   "source": [
    "def group_frequencies(freqs):\n",
    "    # Based on the assumption we have 8 different cell types, we group each type in the right column\n",
    "    NUM_INSTANCES = freqs.shape[0]  # 1280\n",
    "    NUM_FPGA = freqs.shape[1]   # 100\n",
    "    NUM_TYPES = 8\n",
    "    batchArray = np.zeros((int(NUM_INSTANCES/NUM_TYPES),NUM_TYPES,NUM_FPGA))\n",
    "    for fpga in range(0, NUM_FPGA):\n",
    "        for instance_type in range(0, NUM_TYPES):\n",
    "            batchArray[:,instance_type,fpga] = freqs[instance_type::NUM_TYPES,fpga] # from the starting index, we sample every 8 elements\n",
    "    # batcharray: 160x8x100\n",
    "    return batchArray"
   ]
  },
  {
   "cell_type": "code",
   "execution_count": 30,
   "metadata": {},
   "outputs": [],
   "source": [
    "batched1 = group_frequencies(freqs1)\n",
    "batched2 = group_frequencies(freqs2)\n",
    "batched3 = group_frequencies(freqs3)\n",
    "batched4 = group_frequencies(freqs4)"
   ]
  },
  {
   "cell_type": "code",
   "execution_count": 31,
   "metadata": {},
   "outputs": [
    {
     "data": {
      "text/plain": [
       "(160, 8, 100)"
      ]
     },
     "execution_count": 31,
     "metadata": {},
     "output_type": "execute_result"
    }
   ],
   "source": [
    "batched1[:,0,0] # first batch, first fpga\n",
    "batched1.shape"
   ]
  },
  {
   "cell_type": "markdown",
   "metadata": {},
   "source": [
    "### 2Comp Neighbour Algorithm\n",
    "For each batch, the response is given by comparing each frequency of the batch with the next one:\n",
    "\n",
    "* For Each  i = [1,3,5,...,15]\n",
    "* Choose    j = i + 1\n",
    "* If f(i) > f(j) => res = 1, else => res = 0\n",
    "\n",
    "In this way BATCH_SIZE/2 bits for each batch is extracted (in our case 8 bits per batch).\n"
   ]
  },
  {
   "cell_type": "code",
   "execution_count": 89,
   "metadata": {},
   "outputs": [],
   "source": [
    "def alg_2comp_neigh_batch (batch):\n",
    "    \"\"\" This function compares the frequencies of a single batch\"\"\"\n",
    "    BATCH_SIZE = len(batch) # 160\n",
    "    response = np.zeros((int(BATCH_SIZE/2)), dtype=np.int) # 80\n",
    "    response = [int(bool_) for bool_ in batch[::2] > batch [1::2] ]\n",
    "    return response\n",
    "\n",
    "#def alg_2comp_neigh_batch (batch):\n",
    "#    \"\"\" This function compares the frequencies of a single batch\"\"\"\n",
    "#    BATCH_SIZE = len(batch) # 160\n",
    "#    response = np.zeros((int(BATCH_SIZE/2))) # 80\n",
    "#    for i in range(0, BATCH_SIZE-1, 2):\n",
    "#        response[i // 2] = int(batch[i] > batch[i+1])\n",
    "#    return response"
   ]
  },
  {
   "cell_type": "code",
   "execution_count": 90,
   "metadata": {},
   "outputs": [],
   "source": [
    "def alg_2comp_neigh (experiment_data):\n",
    "    \"\"\" This function compares the frequencies for all batches and all fpgas, given a certain experiment\"\"\"\n",
    "    NUM_BATCHES = experiment_data.shape[1]\n",
    "    NUM_FPGA = experiment_data.shape[2]\n",
    "    NUM_RESPONSE_BITS = int(experiment_data.shape[0]/2)\n",
    "\n",
    "    response = np.zeros(( NUM_RESPONSE_BITS,NUM_BATCHES,NUM_FPGA),dtype=int) #8,80,100\n",
    "    for currFpga in range (0,NUM_FPGA): #num of fpga\n",
    "        for currBatch in range (0,NUM_BATCHES): #num of batches\n",
    "            response[:,currBatch,currFpga] = alg_2comp_neigh_batch(experiment_data[:,currBatch,currFpga])\n",
    "    \n",
    "    return response # (80 bit, 8 Batches, 100 fpga)"
   ]
  },
  {
   "cell_type": "code",
   "execution_count": 92,
   "metadata": {},
   "outputs": [
    {
     "name": "stdout",
     "output_type": "stream",
     "text": [
      "[0 1 0 0 0 0 0 1 1 1 0 1 1 0 0 1 1 1 1 0 0 1 1 1 1 0 0 1 1 1 1 1 1 1 0 1 0\n",
      " 0 0 0 1 1 0 0 1 0 1 1 1 1 0 1 0 1 0 1 0 1 1 0 0 0 0 1 0 0 1 0 0 0 1 0 0 0\n",
      " 1 1 0 1 0 1]\n"
     ]
    }
   ],
   "source": [
    "print(alg_2comp_neigh(batched1)[:,0,0])"
   ]
  },
  {
   "cell_type": "code",
   "execution_count": 93,
   "metadata": {},
   "outputs": [],
   "source": [
    "data = np.array([\n",
    "    alg_2comp_neigh(batched1),\n",
    "    alg_2comp_neigh(batched2),\n",
    "    alg_2comp_neigh(batched3),\n",
    "    alg_2comp_neigh(batched4)\n",
    "], dtype=np.int)"
   ]
  },
  {
   "cell_type": "code",
   "execution_count": 94,
   "metadata": {},
   "outputs": [
    {
     "data": {
      "text/plain": [
       "(4, 80, 8, 100)"
      ]
     },
     "execution_count": 94,
     "metadata": {},
     "output_type": "execute_result"
    }
   ],
   "source": [
    "data.shape"
   ]
  },
  {
   "cell_type": "code",
   "execution_count": 95,
   "metadata": {},
   "outputs": [
    {
     "name": "stdout",
     "output_type": "stream",
     "text": [
      "[0 1 0 0 0 0 0 1 1 1 0 1 1 0 0 1 1 1 1 0 0 1 1 1 1 0 0 1 1 1 1 1 1 1 0 1 0\n",
      " 0 0 0 1 1 0 0 1 0 1 1 1 1 0 1 0 1 0 1 0 1 1 0 0 0 0 1 0 0 1 0 0 0 1 0 0 0\n",
      " 1 1 0 1 0 1]\n"
     ]
    },
    {
     "data": {
      "text/plain": [
       "(80, 8)"
      ]
     },
     "execution_count": 95,
     "metadata": {},
     "output_type": "execute_result"
    }
   ],
   "source": [
    "print(data[0,:,0,0])\n",
    "data[0,:,:,0].shape"
   ]
  },
  {
   "cell_type": "markdown",
   "metadata": {},
   "source": [
    "### Analysis"
   ]
  },
  {
   "cell_type": "markdown",
   "metadata": {},
   "source": [
    "#### Uniformity\n",
    "The uniformity metric (also called randomness by Yu et al. in [53])\n",
    "determines how uniform the proportion of 0′ 𝑠 and 1′ 𝑠 are in the PUF\n",
    "response"
   ]
  },
  {
   "cell_type": "code",
   "execution_count": 96,
   "metadata": {},
   "outputs": [],
   "source": [
    "def calc_uniformity(response):\n",
    "    return np.sum([response[i] for i in range(0, len(response))]) / len(response)\n",
    "\n",
    "def worst_uniformity(data):\n",
    "    max = 0.5   # ideal value\n",
    "    sum = 0\n",
    "    PUF_NUM = data.shape[3]\n",
    "    EXP_NUM = data.shape[0]\n",
    "    BATCH_NUM = data.shape[2]\n",
    "    for puf_num in range(0, PUF_NUM):\n",
    "        for exp_num in range(0, EXP_NUM):\n",
    "            for batch_num in range(0, BATCH_NUM):\n",
    "                u = calc_uniformity(data[exp_num,:,batch_num,puf_num])\n",
    "                sum = sum + u\n",
    "                if np.abs(u - 0.5) > np.abs(max - 0.5):\n",
    "                    max = u\n",
    "                    if u == 0:\n",
    "                        print('Experiment for 0 uniformity:\\n EXP: ',exp_num,'\\n BATCH: ',batch_num, '\\n PUF: ',puf_num,'\\n\\n')\n",
    "    return max, sum / (PUF_NUM*EXP_NUM*BATCH_NUM)"
   ]
  },
  {
   "cell_type": "code",
   "execution_count": 97,
   "metadata": {},
   "outputs": [
    {
     "data": {
      "text/plain": [
       "(0.6875, 0.4992031250000003)"
      ]
     },
     "execution_count": 97,
     "metadata": {},
     "output_type": "execute_result"
    }
   ],
   "source": [
    "worst_uniformity(data)"
   ]
  },
  {
   "cell_type": "markdown",
   "metadata": {},
   "source": [
    "#### Reliability\n",
    "It determines how efficiently a PUF can generate the same response\n",
    "at different operating conditions (ambient temperatures or supply volt-\n",
    "ages) over a period of time for a given challenge"
   ]
  },
  {
   "cell_type": "code",
   "execution_count": 106,
   "metadata": {},
   "outputs": [],
   "source": [
    "def hamming_distance(arr1, arr2): \n",
    "    distance = 0\n",
    "    L = len(arr1)\n",
    "    for i in range(L):\n",
    "        if arr1[i] != arr2[i]:\n",
    "            distance += 1\n",
    "    return distance\n",
    "\n",
    "def hd_intra(puf_responses):\n",
    "    return np.sum([\n",
    "        hamming_distance(puf_responses[0,:], puf_responses[exp_num,:]) / puf_responses.shape[1]\n",
    "        for exp_num in range(1, puf_responses.shape[0])]) / puf_responses.shape[0]\n",
    "    \n",
    "def reliability(puf_responses):\n",
    "    return 1 - hd_intra(puf_responses)\n",
    "\n",
    "def stat_reliability(data):\n",
    "    min = 1 # ideal value\n",
    "    max = 0\n",
    "    sum = 0\n",
    "    for puf_num in range(0, data.shape[3]):\n",
    "        for batch_num in range(0, data.shape[2]):\n",
    "            r = reliability(data[:,:,batch_num,puf_num])\n",
    "            if r < min:\n",
    "                min = r\n",
    "            if r > max:\n",
    "                max = r\n",
    "            sum += r\n",
    "    return min, max, sum / (data.shape[3] * data.shape[2])"
   ]
  },
  {
   "cell_type": "code",
   "execution_count": 107,
   "metadata": {},
   "outputs": [
    {
     "data": {
      "text/plain": [
       "(0.934375, 1.0, 0.9749921874999993)"
      ]
     },
     "execution_count": 107,
     "metadata": {},
     "output_type": "execute_result"
    }
   ],
   "source": [
    "stat_reliability(data)"
   ]
  },
  {
   "cell_type": "markdown",
   "metadata": {},
   "source": [
    "#### Uniqueness\n",
    "It measures the variation of responses obtained from different chips\n",
    "for the same set of challenges"
   ]
  },
  {
   "cell_type": "code",
   "execution_count": 100,
   "metadata": {},
   "outputs": [],
   "source": [
    "def calc_uniqueness(data):\n",
    "    num_bits = data.shape[0]\n",
    "    num_devices = data.shape[1]\n",
    "    return 2/(num_devices*(num_devices-1)) * np.sum([\n",
    "        np.sum([\n",
    "            hamming_distance(data[:,i], data[:,j])/num_bits\n",
    "            for j in range(i+1, num_devices)])  \n",
    "        for i in range(0, num_devices-1)])\n",
    "\n",
    "def worst_uniqueness(data):\n",
    "    n_esperiments = data.shape[0]\n",
    "    max = 0.5   # ideal value\n",
    "    for exp_num in range(0, n_esperiments):\n",
    "        for ij_couple in range(0, data.shape[2]):\n",
    "            u = calc_uniqueness(data[exp_num,:,ij_couple,:])\n",
    "            if np.abs(u - 0.5) > np.abs(max - 0.5):\n",
    "                max = u\n",
    "    return max"
   ]
  },
  {
   "cell_type": "code",
   "execution_count": 101,
   "metadata": {},
   "outputs": [
    {
     "data": {
      "text/plain": [
       "0.5011363636363637"
      ]
     },
     "execution_count": 101,
     "metadata": {},
     "output_type": "execute_result"
    }
   ],
   "source": [
    "worst_uniqueness(data)"
   ]
  },
  {
   "cell_type": "markdown",
   "metadata": {},
   "source": [
    "### Some samples"
   ]
  },
  {
   "cell_type": "code",
   "execution_count": 102,
   "metadata": {},
   "outputs": [],
   "source": [
    "def bit_array_to_string(arr):\n",
    "    response_char = ''\n",
    "    for i in range(0, len(arr)):\n",
    "        response_char = response_char + ('1' if arr[i] else '0')\n",
    "    return response_char  \n",
    "\n",
    "def print_ids_per_fpga(data):\n",
    "    num_batches = data.shape[1] #80\n",
    "    out = []\n",
    "    for curr_batch in range(0, num_batches):\n",
    "        out.append(bit_array_to_string(data[:,curr_batch]))\n",
    "    return out"
   ]
  },
  {
   "cell_type": "code",
   "execution_count": 103,
   "metadata": {},
   "outputs": [
    {
     "data": {
      "text/plain": [
       "['01000001110110011110011110011111110100001100101111010101011000010010001000110101',\n",
       " '01010111000001111100000000011000000110100110100110110011010111001000101001011111',\n",
       " '11101010101100010100100000001111101110010101011110010000000111101011011010000111',\n",
       " '01010101011001110100100111100101110001110100111101011111100011111001000101100100',\n",
       " '10100001111100011000000101111101010000111101000100111110111001110000011010000011',\n",
       " '11110100000001010001010101010111010101110111111010111110010101101110111101010010',\n",
       " '11010001000001001001010001000100011100100011101000111110001011011100010100001000',\n",
       " '00000001011000111011001001001111101000100000001000001100001110000000010011010110']"
      ]
     },
     "execution_count": 103,
     "metadata": {},
     "output_type": "execute_result"
    }
   ],
   "source": [
    "# Let's print all the first 10 ids of the first board at 20°C\n",
    "print_ids_per_fpga(data[0,:,:,0])[0:10]"
   ]
  }
 ],
 "metadata": {
  "interpreter": {
   "hash": "916dbcbb3f70747c44a77c7bcd40155683ae19c65e1c03b4aa3499c5328201f1"
  },
  "kernelspec": {
   "display_name": "Python 3.9.7 64-bit",
   "language": "python",
   "name": "python3"
  },
  "language_info": {
   "codemirror_mode": {
    "name": "ipython",
    "version": 3
   },
   "file_extension": ".py",
   "mimetype": "text/x-python",
   "name": "python",
   "nbconvert_exporter": "python",
   "pygments_lexer": "ipython3",
   "version": "3.9.7"
  },
  "orig_nbformat": 4
 },
 "nbformat": 4,
 "nbformat_minor": 2
}
