{
 "cells": [
  {
   "cell_type": "markdown",
   "metadata": {},
   "source": [
    "### Imports"
   ]
  },
  {
   "cell_type": "code",
   "execution_count": 1,
   "metadata": {},
   "outputs": [],
   "source": [
    "import numpy as np\n",
    "import pandas as pd"
   ]
  },
  {
   "cell_type": "markdown",
   "metadata": {},
   "source": [
    "### Read data from logs\n",
    "Each of the provided logs contains frequencies for each of the 1280 tero-instances, for 100 pufs (100 different board)"
   ]
  },
  {
   "cell_type": "code",
   "execution_count": 4,
   "metadata": {},
   "outputs": [],
   "source": [
    "def extract_frequencies(csv_file, counter_bits):\n",
    "    data = pd.read_csv(csv_file, sep=',', skiprows=1, names=[\"BoardNumber\",\"DataSent\", \"#Sent\", \"DataReceived\", \"#Received\"])\n",
    "    responsesRaw = np.array(data['DataReceived'])\n",
    "    responses = []\n",
    "    for responseRaw in responsesRaw:\n",
    "        response = []\n",
    "        for i in range(0, len(responseRaw), int(counter_bits/4)):\n",
    "            response.append(int(responseRaw[i:i+int(counter_bits/4)], 16))\n",
    "        responses.append(response)\n",
    "    responses = np.array(responses)\n",
    "    return np.transpose(responses) # for each row, an instance of tero. for each column, the value in that fpga"
   ]
  },
  {
   "cell_type": "code",
   "execution_count": 5,
   "metadata": {},
   "outputs": [],
   "source": [
    "freqs1 = extract_frequencies(\"TERO/log_20161008U235656_Small_ChosenRepetition_ChosenTime_22.0C.csv\", 32)\n",
    "freqs2 = extract_frequencies(\"TERO/log_20161009U002207_Small_ChosenRepetition_ChosenTime_22.0C.csv\", 32)\n",
    "freqs3 = extract_frequencies(\"TERO/log_20161009U023930_Small_ChosenRepetition_ChosenTime_-0.0C.csv\", 32)\n",
    "freqs4 = extract_frequencies(\"TERO/log_20161009U110717_Small_ChosenRepetition_ChosenTime_44.1C.csv\", 32)"
   ]
  },
  {
   "cell_type": "code",
   "execution_count": 6,
   "metadata": {},
   "outputs": [
    {
     "name": "stdout",
     "output_type": "stream",
     "text": [
      "Maximum frequency: 1421604\n",
      "Number of bits needed: 21\n"
     ]
    }
   ],
   "source": [
    "def max_freq(freqs):\n",
    "    max = 0\n",
    "    for puf_num in range(0,freqs.shape[1]):\n",
    "        for tero_instance in range(0, freqs.shape[0]):\n",
    "            if freqs[tero_instance][puf_num] > max:\n",
    "                max = freqs[tero_instance][puf_num]\n",
    "    return max\n",
    "\n",
    "max_frequency = np.max([max_freq(freqs1), max_freq(freqs2), max_freq(freqs3), max_freq(freqs4)])\n",
    "print(f\"Maximum frequency: {max_frequency}\")\n",
    "print(f\"Number of bits needed: {np.math.ceil(np.math.log2(max_frequency))}\")"
   ]
  }
 ],
 "metadata": {
  "interpreter": {
   "hash": "916dbcbb3f70747c44a77c7bcd40155683ae19c65e1c03b4aa3499c5328201f1"
  },
  "kernelspec": {
   "display_name": "Python 3.9.7 64-bit",
   "language": "python",
   "name": "python3"
  },
  "language_info": {
   "codemirror_mode": {
    "name": "ipython",
    "version": 3
   },
   "file_extension": ".py",
   "mimetype": "text/x-python",
   "name": "python",
   "nbconvert_exporter": "python",
   "pygments_lexer": "ipython3",
   "version": "3.9.7"
  },
  "orig_nbformat": 4
 },
 "nbformat": 4,
 "nbformat_minor": 2
}
