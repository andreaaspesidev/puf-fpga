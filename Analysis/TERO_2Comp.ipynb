{
 "cells": [
  {
   "cell_type": "markdown",
   "metadata": {},
   "source": [
    "### Imports"
   ]
  },
  {
   "cell_type": "code",
   "execution_count": 1,
   "metadata": {},
   "outputs": [],
   "source": [
    "import numpy as np\n",
    "import pandas as pd"
   ]
  },
  {
   "cell_type": "markdown",
   "metadata": {},
   "source": [
    "### Read data from logs\n",
    "Each of the provided logs contains frequencies for each of the 1280 tero-instances, for 100 pufs (100 different board)"
   ]
  },
  {
   "cell_type": "code",
   "execution_count": 2,
   "metadata": {},
   "outputs": [],
   "source": [
    "def extract_frequencies(csv_file, counter_bits):\n",
    "    data = pd.read_csv(csv_file, sep=',', skiprows=1, names=[\"BoardNumber\",\"DataSent\", \"#Sent\", \"DataReceived\", \"#Received\"])\n",
    "    responsesRaw = np.array(data['DataReceived'])\n",
    "    responses = []\n",
    "    for responseRaw in responsesRaw:\n",
    "        response = []\n",
    "        for i in range(0, len(responseRaw), int(counter_bits/4)):\n",
    "            response.append(int(responseRaw[i:i+int(counter_bits/4)], 16))\n",
    "        responses.append(response)\n",
    "    responses = np.array(responses)\n",
    "    return np.transpose(responses) # for each row, an instance of tero. for each column, the value in that fpga"
   ]
  },
  {
   "cell_type": "code",
   "execution_count": 3,
   "metadata": {},
   "outputs": [],
   "source": [
    "freqs1 = extract_frequencies(\"TERO/log_20161008U235656_Small_ChosenRepetition_ChosenTime_22.0C.csv\", 32)\n",
    "freqs2 = extract_frequencies(\"TERO/log_20161009U002207_Small_ChosenRepetition_ChosenTime_22.0C.csv\", 32)\n",
    "freqs3 = extract_frequencies(\"TERO/log_20161009U023930_Small_ChosenRepetition_ChosenTime_-0.0C.csv\", 32)\n",
    "freqs4 = extract_frequencies(\"TERO/log_20161009U110717_Small_ChosenRepetition_ChosenTime_44.1C.csv\", 32)"
   ]
  },
  {
   "cell_type": "code",
   "execution_count": 4,
   "metadata": {},
   "outputs": [
    {
     "name": "stdout",
     "output_type": "stream",
     "text": [
      "(1280, 100)\n",
      "[[  71870  239361  165805 ...  126003   96193   72745]\n",
      " [  61075 1131202  936723 ...   63300  122902  123455]\n",
      " [  68815   93162  373604 ...   43073   73202  447935]\n",
      " ...\n",
      " [  85216  104602   91431 ...  142617  219258  164340]\n",
      " [ 163790   66403  118687 ...  133235  124278  148629]\n",
      " [ 143384  118096   52582 ...  194886   83166  447925]]\n"
     ]
    }
   ],
   "source": [
    "print(freqs1.shape)\n",
    "print(freqs1)"
   ]
  },
  {
   "cell_type": "markdown",
   "metadata": {},
   "source": [
    "### Group frequencies in batches"
   ]
  },
  {
   "cell_type": "markdown",
   "metadata": {},
   "source": [
    "0 1 2 3 4 5 6 7 8 9 10 11 12 13 14 15 16\n",
    "\n",
    "[0] 0 4 8 12 16\n",
    "[1] 1 5 9 13 17\n",
    "\n",
    "[0] 0 8 16  x 160\n",
    "[1] 1 9 17\n",
    "[2] 2 10 18\n",
    "[3] 3 ...\n",
    "[4] 4 12 20\n",
    "...\n",
    "[7]"
   ]
  },
  {
   "cell_type": "code",
   "execution_count": 5,
   "metadata": {},
   "outputs": [],
   "source": [
    "def group_frequencies(freqs):\n",
    "    # Based on the assumption we have 8 different cell types, we group each type in the right column\n",
    "    NUM_INSTANCES = freqs.shape[0]  # 1280\n",
    "    NUM_FPGA = freqs.shape[1]   # 100\n",
    "    NUM_TYPES = 8\n",
    "    BATCH_SIZE = 16\n",
    "    batchArray = np.zeros((int(NUM_INSTANCES/NUM_TYPES),NUM_TYPES,NUM_FPGA))\n",
    "    for fpga in range(0, NUM_FPGA):\n",
    "        for instance_type in range(0, NUM_TYPES):\n",
    "            batchArray[:,instance_type,fpga] = freqs[instance_type::NUM_TYPES,fpga] # from the starting index, we sample every 8 elements\n",
    "    # batcharray: 160x8x100\n",
    "    BATCH_COLUMNS = int(NUM_INSTANCES/BATCH_SIZE)   # 80\n",
    "    batchResponse = np.zeros((BATCH_SIZE,BATCH_COLUMNS,NUM_FPGA))\n",
    "    for fpga in range(0, NUM_FPGA):\n",
    "        fpgaBatch = np.zeros((BATCH_SIZE, BATCH_COLUMNS))\n",
    "        col = 0\n",
    "        for instance_type in range(0,NUM_TYPES):\n",
    "            # get old column\n",
    "            current_col = batchArray[:,instance_type,fpga]\n",
    "            # create 10 new columns\n",
    "            for index in range(0, len(current_col), BATCH_SIZE):\n",
    "                fpgaBatch[:,col] = current_col[index:index+BATCH_SIZE]\n",
    "                col += 1\n",
    "            # continue for each of the 8 columns (8x10 = 80 columns)\n",
    "        # set the new batch\n",
    "        batchResponse[:,:,fpga] = fpgaBatch[:,:]\n",
    "    return batchResponse"
   ]
  },
  {
   "cell_type": "code",
   "execution_count": 6,
   "metadata": {},
   "outputs": [],
   "source": [
    "batched1 = group_frequencies(freqs1)\n",
    "batched2 = group_frequencies(freqs2)\n",
    "batched3 = group_frequencies(freqs3)\n",
    "batched4 = group_frequencies(freqs4)"
   ]
  },
  {
   "cell_type": "code",
   "execution_count": 7,
   "metadata": {},
   "outputs": [
    {
     "data": {
      "text/plain": [
       "(16, 80, 100)"
      ]
     },
     "execution_count": 7,
     "metadata": {},
     "output_type": "execute_result"
    }
   ],
   "source": [
    "batched1[:,0,0] # first batch, first fpga\n",
    "batched1.shape"
   ]
  },
  {
   "cell_type": "markdown",
   "metadata": {},
   "source": [
    "### 2Comp Algorithm\n",
    "Choosing 2 frequencies for each batch, the response is given by comparing them:\n",
    "\n",
    "* Choose 0 < i < BATCH_SIZE\n",
    "* Choose 0 < j < BATCH_SIZE, i ~= j\n",
    "* If f(i) > f(j) => res = 1, else => res = 0\n",
    "\n",
    "In this way 1 bit for each batch is extracted (in our case 80 bits)\n"
   ]
  },
  {
   "cell_type": "code",
   "execution_count": 23,
   "metadata": {},
   "outputs": [],
   "source": [
    "def alg_2comp_chosen_i_j (i,j,puf_data):\n",
    "    NUM_BATCHES = puf_data.shape[1]\n",
    "    NUM_FPGA = puf_data.shape[2]\n",
    "\n",
    "    response = np.zeros((NUM_BATCHES,NUM_FPGA))\n",
    "    for currFpga in range (0,NUM_FPGA): #num of fpga\n",
    "        for currBatch in range (0,NUM_BATCHES): #num of batches\n",
    "            if i == j :\n",
    "                response[currBatch,currFpga] = 0 #at the moment it's redundant\n",
    "            else:\n",
    "                response[currBatch,currFpga] = 1 if puf_data[i,currBatch,currFpga] > puf_data[j,currBatch,currFpga] else 0\n",
    "    \n",
    "    return response # (80 bit, 100 fpga)"
   ]
  },
  {
   "cell_type": "code",
   "execution_count": 9,
   "metadata": {},
   "outputs": [
    {
     "data": {
      "text/plain": [
       "(80, 100)"
      ]
     },
     "execution_count": 9,
     "metadata": {},
     "output_type": "execute_result"
    }
   ],
   "source": [
    "alg_2comp_chosen_i_j (1,2,batched1).shape"
   ]
  },
  {
   "cell_type": "code",
   "execution_count": 10,
   "metadata": {},
   "outputs": [],
   "source": [
    "def get_res_array (experiment):\n",
    "    \"\"\" This function takes an experiment (data for a certain temperature) and returns all possible 80bits responses (for each i,j combination)\"\"\"\n",
    "    BATCH_SIZE = 16\n",
    "    SINGLE_RESPONSE_BITS = 80\n",
    "    NUM_FPGA = 100\n",
    "    \n",
    "    res_array = np.zeros((SINGLE_RESPONSE_BITS,int((BATCH_SIZE*(BATCH_SIZE-1))/2), NUM_FPGA)) #80,256,100\n",
    "    #res_array = np.zeros((BATCH_SIZE*BATCH_SIZE,SINGLE_RESPONSE_BITS, NUM_FPGA)) #256,80,100\n",
    "    curr_ij_couple = 0\n",
    "\n",
    "    for i_index in range(0, BATCH_SIZE):\n",
    "        for j_index in range (i_index,BATCH_SIZE):\n",
    "            if i_index != j_index :\n",
    "                res_array[:,curr_ij_couple,:] = alg_2comp_chosen_i_j(i_index,j_index,experiment)\n",
    "                curr_ij_couple += 1\n",
    "    \n",
    "    return res_array\n"
   ]
  },
  {
   "cell_type": "code",
   "execution_count": 11,
   "metadata": {},
   "outputs": [],
   "source": [
    "data = np.array([\n",
    "    get_res_array(batched1),\n",
    "    get_res_array(batched2),\n",
    "    get_res_array(batched3),\n",
    "    get_res_array(batched4)\n",
    "], dtype=np.int)"
   ]
  },
  {
   "cell_type": "code",
   "execution_count": 12,
   "metadata": {},
   "outputs": [
    {
     "data": {
      "text/plain": [
       "(4, 80, 120, 100)"
      ]
     },
     "execution_count": 12,
     "metadata": {},
     "output_type": "execute_result"
    }
   ],
   "source": [
    "data.shape"
   ]
  },
  {
   "cell_type": "code",
   "execution_count": 13,
   "metadata": {},
   "outputs": [
    {
     "name": "stdout",
     "output_type": "stream",
     "text": [
      "[1 1 0 0 0 0 1 0 0 1 1 0 1 0 0 1 1 1 1 0 0 0 1 1 0 1 1 0 1 1 0 0 0 1 0 0 1\n",
      " 0 1 0 0 0 1 0 1 1 1 0 1 1 1 1 0 0 0 0 0 0 1 0 1 1 1 0 1 1 0 1 0 0 0 1 1 0\n",
      " 1 0 0 0 0 0]\n"
     ]
    },
    {
     "data": {
      "text/plain": [
       "(80, 120)"
      ]
     },
     "execution_count": 13,
     "metadata": {},
     "output_type": "execute_result"
    }
   ],
   "source": [
    "print(data[0,:,0,1])\n",
    "data[0,:,:,1].shape"
   ]
  },
  {
   "cell_type": "markdown",
   "metadata": {},
   "source": [
    "### Analysis"
   ]
  },
  {
   "cell_type": "markdown",
   "metadata": {},
   "source": [
    "#### Uniformity\n",
    "The uniformity metric (also called randomness by Yu et al. in [53])\n",
    "determines how uniform the proportion of 0′ 𝑠 and 1′ 𝑠 are in the PUF\n",
    "response"
   ]
  },
  {
   "cell_type": "code",
   "execution_count": 14,
   "metadata": {},
   "outputs": [],
   "source": [
    "def calc_uniformity(response):\n",
    "    return np.sum([response[i] for i in range(0, len(response))]) / len(response)\n",
    "\n",
    "def worst_uniformity(data):\n",
    "    max = 0.5   # ideal value\n",
    "    for puf_num in range(0, data.shape[3]):\n",
    "        for exp_num in range(0, data.shape[0]):\n",
    "            for batch_num in range(0, data.shape[2]):\n",
    "                u = calc_uniformity(data[exp_num,:,batch_num,puf_num])\n",
    "                if np.abs(u - 0.5) > np.abs(max - 0.5):\n",
    "                    max = u\n",
    "                    if u == 0:\n",
    "                        print('Experiment for 0 uniformity:\\n EXP: ',exp_num,'\\n BATCH: ',batch_num, '\\n PUF: ',puf_num,'\\n\\n')\n",
    "    return max"
   ]
  },
  {
   "cell_type": "code",
   "execution_count": 15,
   "metadata": {},
   "outputs": [
    {
     "data": {
      "text/plain": [
       "0.275"
      ]
     },
     "execution_count": 15,
     "metadata": {},
     "output_type": "execute_result"
    }
   ],
   "source": [
    "worst_uniformity(data)\n",
    "\n",
    "#data[1,:,2,1]"
   ]
  },
  {
   "cell_type": "markdown",
   "metadata": {},
   "source": [
    "#### Reliability\n",
    "It determines how efficiently a PUF can generate the same response\n",
    "at different operating conditions (ambient temperatures or supply volt-\n",
    "ages) over a period of time for a given challenge"
   ]
  },
  {
   "cell_type": "code",
   "execution_count": 16,
   "metadata": {},
   "outputs": [],
   "source": [
    "def hamming_distance(arr1, arr2): \n",
    "    distance = 0\n",
    "    L = len(arr1)\n",
    "    for i in range(L):\n",
    "        if arr1[i] != arr2[i]:\n",
    "            distance += 1\n",
    "    return distance\n",
    "\n",
    "def hd_intra(puf_responses):\n",
    "    return np.sum([\n",
    "        hamming_distance(puf_responses[0,:], puf_responses[exp_num,:]) / len(puf_responses[0,:])\n",
    "        for exp_num in range(1, len(puf_responses))]) / len(puf_responses)\n",
    "    \n",
    "def reliability(puf_responses):\n",
    "    return 1 - hd_intra(puf_responses)\n",
    "\n",
    "def worst_reliability(data):\n",
    "    min = 1 # ideal value\n",
    "    for puf_num in range(0, data.shape[3]):\n",
    "        for batch_num in range(0, data.shape[2]):\n",
    "            r = reliability(data[:,:,batch_num,puf_num])\n",
    "            if r < min:\n",
    "                min = r\n",
    "    return min"
   ]
  },
  {
   "cell_type": "code",
   "execution_count": 17,
   "metadata": {},
   "outputs": [
    {
     "data": {
      "text/plain": [
       "0.9125"
      ]
     },
     "execution_count": 17,
     "metadata": {},
     "output_type": "execute_result"
    }
   ],
   "source": [
    "worst_reliability(data)"
   ]
  },
  {
   "cell_type": "markdown",
   "metadata": {},
   "source": [
    "#### Uniqueness\n",
    "It measures the variation of responses obtained from different chips\n",
    "for the same set of challenges"
   ]
  },
  {
   "cell_type": "code",
   "execution_count": 18,
   "metadata": {},
   "outputs": [],
   "source": [
    "def calc_uniqueness(data):\n",
    "    num_bits = data.shape[0]\n",
    "    num_devices = data.shape[1]\n",
    "    return 2/(num_devices*(num_devices-1)) * np.sum([\n",
    "        np.sum([\n",
    "            hamming_distance(data[:,i], data[:,j])/num_bits\n",
    "            for j in range(i+1, num_devices)])  \n",
    "        for i in range(0, num_devices-1)])\n",
    "\n",
    "def worst_uniqueness(data):\n",
    "    n_esperiments = data.shape[0]\n",
    "    max = 0.5   # ideal value\n",
    "    for exp_num in range(0, n_esperiments):\n",
    "        for ij_couple in range(0, data.shape[2]):\n",
    "            u = calc_uniqueness(data[exp_num,:,ij_couple,:])\n",
    "            if np.abs(u - 0.5) > np.abs(max - 0.5):\n",
    "                max = u\n",
    "    return max"
   ]
  },
  {
   "cell_type": "code",
   "execution_count": 19,
   "metadata": {},
   "outputs": [
    {
     "data": {
      "text/plain": [
       "0.4965909090909092"
      ]
     },
     "execution_count": 19,
     "metadata": {},
     "output_type": "execute_result"
    }
   ],
   "source": [
    "worst_uniqueness(data)"
   ]
  },
  {
   "cell_type": "markdown",
   "metadata": {},
   "source": [
    "### Some samples"
   ]
  },
  {
   "cell_type": "code",
   "execution_count": 21,
   "metadata": {},
   "outputs": [],
   "source": [
    "def bit_array_to_string(arr):\n",
    "    response_char = ''\n",
    "    for i in range(0, len(arr)):\n",
    "        response_char = response_char + ('1' if arr[i] else '0')\n",
    "    return response_char  \n",
    "\n",
    "def print_ids_per_fpga(data):\n",
    "    num_batches = data.shape[1] #80\n",
    "    out = []\n",
    "    for curr_batch in range(0, num_batches):\n",
    "        out.append(bit_array_to_string(data[:,curr_batch]))\n",
    "    return out"
   ]
  },
  {
   "cell_type": "code",
   "execution_count": 22,
   "metadata": {},
   "outputs": [
    {
     "data": {
      "text/plain": [
       "['01111110000010001010110010101100011001101110010101100000101010100000100010100001',\n",
       " '01111010000111000011011000101000000001101010001101010000101000000011011011110111',\n",
       " '01111110000011000011001000001000111100011011111101000001011110000001111011100011',\n",
       " '01111010000010000011001010111000101101001110100101010100011100110001101011100001',\n",
       " '01111010010010001000000010011000001101001111001100110000101000000111001110100001',\n",
       " '11111010000010011010000000111001001101001110100101000001101000110001101011100001',\n",
       " '01111010000011001001010010111011000000001111010101100101111100110011100010100001',\n",
       " '01111010010110001001010000101111111000101010110101100100011010110001101011100011',\n",
       " '01111100000010001011011010110100101100101011000000100001101000100101010001100101',\n",
       " '01001010000010111001110010110100001000101110000101010000001110000101111011110010']"
      ]
     },
     "execution_count": 22,
     "metadata": {},
     "output_type": "execute_result"
    }
   ],
   "source": [
    "# Let's print all the first 10 ids of the first board at 20°C\n",
    "print_ids_per_fpga(data[0,:,:,0])[0:10]"
   ]
  }
 ],
 "metadata": {
  "interpreter": {
   "hash": "916dbcbb3f70747c44a77c7bcd40155683ae19c65e1c03b4aa3499c5328201f1"
  },
  "kernelspec": {
   "display_name": "Python 3.9.7 64-bit",
   "language": "python",
   "name": "python3"
  },
  "language_info": {
   "codemirror_mode": {
    "name": "ipython",
    "version": 3
   },
   "file_extension": ".py",
   "mimetype": "text/x-python",
   "name": "python",
   "nbconvert_exporter": "python",
   "pygments_lexer": "ipython3",
   "version": "3.9.7"
  },
  "orig_nbformat": 4
 },
 "nbformat": 4,
 "nbformat_minor": 2
}
